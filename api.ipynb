{
 "cells": [
  {
   "cell_type": "code",
   "execution_count": 27,
   "metadata": {},
   "outputs": [
    {
     "name": "stdout",
     "output_type": "stream",
     "text": [
      "Requirement already satisfied: requests in c:\\users\\fom009!\\desktop\\python tutorials\\notes-flask\\flask_env\\lib\\site-packages (2.32.3)\n",
      "Requirement already satisfied: pandas in c:\\users\\fom009!\\desktop\\python tutorials\\notes-flask\\flask_env\\lib\\site-packages (2.2.3)\n",
      "Requirement already satisfied: charset-normalizer<4,>=2 in c:\\users\\fom009!\\desktop\\python tutorials\\notes-flask\\flask_env\\lib\\site-packages (from requests) (3.4.0)\n",
      "Requirement already satisfied: idna<4,>=2.5 in c:\\users\\fom009!\\desktop\\python tutorials\\notes-flask\\flask_env\\lib\\site-packages (from requests) (3.10)\n",
      "Requirement already satisfied: urllib3<3,>=1.21.1 in c:\\users\\fom009!\\desktop\\python tutorials\\notes-flask\\flask_env\\lib\\site-packages (from requests) (2.3.0)\n",
      "Requirement already satisfied: certifi>=2017.4.17 in c:\\users\\fom009!\\desktop\\python tutorials\\notes-flask\\flask_env\\lib\\site-packages (from requests) (2024.12.14)\n",
      "Requirement already satisfied: numpy>=1.26.0 in c:\\users\\fom009!\\desktop\\python tutorials\\notes-flask\\flask_env\\lib\\site-packages (from pandas) (2.2.1)\n",
      "Requirement already satisfied: python-dateutil>=2.8.2 in c:\\users\\fom009!\\desktop\\python tutorials\\notes-flask\\flask_env\\lib\\site-packages (from pandas) (2.9.0.post0)\n",
      "Requirement already satisfied: pytz>=2020.1 in c:\\users\\fom009!\\desktop\\python tutorials\\notes-flask\\flask_env\\lib\\site-packages (from pandas) (2024.2)\n",
      "Requirement already satisfied: tzdata>=2022.7 in c:\\users\\fom009!\\desktop\\python tutorials\\notes-flask\\flask_env\\lib\\site-packages (from pandas) (2024.2)\n",
      "Requirement already satisfied: six>=1.5 in c:\\users\\fom009!\\desktop\\python tutorials\\notes-flask\\flask_env\\lib\\site-packages (from python-dateutil>=2.8.2->pandas) (1.17.0)\n"
     ]
    },
    {
     "name": "stderr",
     "output_type": "stream",
     "text": [
      "\n",
      "[notice] A new release of pip is available: 24.0 -> 24.3.1\n",
      "[notice] To update, run: python.exe -m pip install --upgrade pip\n"
     ]
    }
   ],
   "source": [
    "!pip install requests pandas\n"
   ]
  },
  {
   "cell_type": "code",
   "execution_count": 37,
   "metadata": {},
   "outputs": [
    {
     "data": {
      "text/html": [
       "<div>\n",
       "<style scoped>\n",
       "    .dataframe tbody tr th:only-of-type {\n",
       "        vertical-align: middle;\n",
       "    }\n",
       "\n",
       "    .dataframe tbody tr th {\n",
       "        vertical-align: top;\n",
       "    }\n",
       "\n",
       "    .dataframe thead th {\n",
       "        text-align: right;\n",
       "    }\n",
       "</style>\n",
       "<table border=\"1\" class=\"dataframe\">\n",
       "  <thead>\n",
       "    <tr style=\"text-align: right;\">\n",
       "      <th></th>\n",
       "      <th>name</th>\n",
       "      <th>country</th>\n",
       "      <th>temp_c</th>\n",
       "      <th>humidity</th>\n",
       "      <th>wind_kph</th>\n",
       "      <th>condition_text</th>\n",
       "      <th>condition_icon</th>\n",
       "      <th>condition_code</th>\n",
       "    </tr>\n",
       "  </thead>\n",
       "  <tbody>\n",
       "    <tr>\n",
       "      <th>0</th>\n",
       "      <td>Jaffna</td>\n",
       "      <td>Sri Lanka</td>\n",
       "      <td>26.8</td>\n",
       "      <td>68</td>\n",
       "      <td>9.0</td>\n",
       "      <td>Sunny</td>\n",
       "      <td>//cdn.weatherapi.com/weather/64x64/day/113.png</td>\n",
       "      <td>1000</td>\n",
       "    </tr>\n",
       "  </tbody>\n",
       "</table>\n",
       "</div>"
      ],
      "text/plain": [
       "     name    country  temp_c  humidity  wind_kph condition_text  \\\n",
       "0  Jaffna  Sri Lanka    26.8        68       9.0          Sunny   \n",
       "\n",
       "                                   condition_icon  condition_code  \n",
       "0  //cdn.weatherapi.com/weather/64x64/day/113.png            1000  "
      ]
     },
     "execution_count": 37,
     "metadata": {},
     "output_type": "execute_result"
    }
   ],
   "source": [
    "import http.client\n",
    "import json\n",
    "import pandas as pd\n",
    "from urllib.parse import urlencode\n",
    "\n",
    "# Set up the HTTP connection\n",
    "conn = http.client.HTTPSConnection(\"weatherapi-com.p.rapidapi.com\")\n",
    "\n",
    "# Set up the headers with your RapidAPI key\n",
    "headers = {\n",
    "    'x-rapidapi-key': \"4765efd0e4msh0e6f4310f441125p115acdjsnc5b407e62f78\",\n",
    "    'x-rapidapi-host': \"weatherapi-com.p.rapidapi.com\"\n",
    "    \n",
    "}\n",
    "current_url = \"https://weatherapi-com.p.rapidapi.com/current.json\"\n",
    "params =urlencode({\"q\": \"jaffna\"})\n",
    "\n",
    "# Make the request to fetch the weather data for a given latitude and longitude\n",
    "conn.request(\"GET\", f\"/current.json?{params}\",headers=headers)\n",
    "\n",
    "# Get the response and read the data\n",
    "res = conn.getresponse()\n",
    "data = res.read()\n",
    "\n",
    "# Parse the JSON response\n",
    "weather_data = json.loads(data.decode(\"utf-8\"))\n",
    "\n",
    "# Extract the required data\n",
    "location = weather_data['location']\n",
    "current = weather_data['current']\n",
    "\n",
    "# Store relevant details in a dictionary\n",
    "weather_info = {\n",
    "    'name': location['name'],\n",
    "    'country': location['country'],\n",
    "    'temp_c': current['temp_c'],\n",
    "    'humidity': current['humidity'],\n",
    "    'wind_kph': current['wind_kph'],\n",
    "    'condition_text': current['condition']['text'],\n",
    "    'condition_icon': current['condition']['icon'],\n",
    "    'condition_code': current['condition']['code']\n",
    "}\n",
    "\n",
    "# Convert this dictionary to a pandas DataFrame to structure it as a table\n",
    "weather_df = pd.DataFrame([weather_info])\n",
    "\n",
    "# Display the table\n",
    "weather_df\n"
   ]
  },
  {
   "cell_type": "code",
   "execution_count": 5,
   "metadata": {},
   "outputs": [],
   "source": [
    "import http.client\n",
    "import json\n",
    "\n",
    "conn = http.client.HTTPSConnection(\"weatherapi-com.p.rapidapi.com\")\n",
    "\n",
    "headers = {\n",
    "    'x-rapidapi-key': \"4765efd0e4msh0e6f4310f441125p115acdjsnc5b407e62f78\",\n",
    "    'x-rapidapi-host': \"weatherapi-com.p.rapidapi.com\"\n",
    "}\n",
    "\n",
    "conn.request(\"GET\", \"/forecast.json?q=London&days=7\", headers=headers)\n",
    "\n",
    "res =  json.loads(data.decode(\"utf-8\"))\n",
    "res\n"
   ]
  },
  {
   "cell_type": "code",
   "execution_count": 4,
   "metadata": {},
   "outputs": [],
   "source": [
    "weather_df.to_csv('weather_data.csv', index=False)\n"
   ]
  }
 ],
 "metadata": {
  "kernelspec": {
   "display_name": "flask_env",
   "language": "python",
   "name": "python3"
  },
  "language_info": {
   "codemirror_mode": {
    "name": "ipython",
    "version": 3
   },
   "file_extension": ".py",
   "mimetype": "text/x-python",
   "name": "python",
   "nbconvert_exporter": "python",
   "pygments_lexer": "ipython3",
   "version": "3.12.3"
  }
 },
 "nbformat": 4,
 "nbformat_minor": 2
}
